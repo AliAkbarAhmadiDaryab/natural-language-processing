{
  "nbformat": 4,
  "nbformat_minor": 0,
  "metadata": {
    "colab": {
      "name": "week4.ipynb",
      "version": "0.3.2",
      "provenance": [],
      "collapsed_sections": [],
      "include_colab_link": true
    },
    "kernelspec": {
      "name": "python3",
      "display_name": "Python 3"
    }
  },
  "cells": [
    {
      "cell_type": "markdown",
      "metadata": {
        "id": "view-in-github",
        "colab_type": "text"
      },
      "source": [
        "<a href=\"https://colab.research.google.com/github/AliAkbarAhmadiDaryab/natural-language-processing/blob/master/week4.ipynb\" target=\"_parent\"><img src=\"https://colab.research.google.com/assets/colab-badge.svg\" alt=\"Open In Colab\"/></a>"
      ]
    },
    {
      "cell_type": "code",
      "metadata": {
        "id": "S6PP_9s332dt",
        "colab_type": "code",
        "colab": {}
      },
      "source": [
        "import random\n"
      ],
      "execution_count": 0,
      "outputs": []
    },
    {
      "cell_type": "code",
      "metadata": {
        "id": "aF6WmIIt4DxZ",
        "colab_type": "code",
        "colab": {}
      },
      "source": [
        "def generate_equations(allowed_operators, dataset_size, min_value, max_value):\n",
        "  sample=[]\n",
        "  for _ in range(dataset_size):\n",
        "    first = random.randint(min_value, max_value)\n",
        "    second = random.randint(min_value, max_value)\n",
        "    operator_index = random.randint(0,1)\n",
        "    equation = str(first) + allowed_operators[operator_index] + str(second)\n",
        "    solution = first + second if operator_index == 0 else first - second\n",
        "    solution = str(solution)\n",
        "    sample.append((equation, solution))\n",
        "  return sample\n",
        "    \n",
        "    \n",
        "    "
      ],
      "execution_count": 0,
      "outputs": []
    },
    {
      "cell_type": "code",
      "metadata": {
        "id": "SO_gP5Iz4D69",
        "colab_type": "code",
        "colab": {}
      },
      "source": [
        "def test_generate_equations():\n",
        "    allowed_operators = ['+', '-']\n",
        "    dataset_size = 10\n",
        "    for (input_, output_) in generate_equations(allowed_operators, dataset_size, 0, 100):\n",
        "        if not (type(input_) is str and type(output_) is str):\n",
        "            return \"Both parts should be strings.\"\n",
        "        if eval(input_) != int(output_):\n",
        "            return \"The (equation: {!r}, solution: {!r}) pair is incorrect.\".format(input_, output_)\n",
        "    return \"Tests passed.\""
      ],
      "execution_count": 0,
      "outputs": []
    },
    {
      "cell_type": "code",
      "metadata": {
        "id": "5wFuznMB4D_C",
        "colab_type": "code",
        "outputId": "f69b6fb0-9134-46ee-faa3-3d322f29b716",
        "colab": {
          "base_uri": "https://localhost:8080/",
          "height": 34
        }
      },
      "source": [
        "print(test_generate_equations())"
      ],
      "execution_count": 5,
      "outputs": [
        {
          "output_type": "stream",
          "text": [
            "Tests passed.\n"
          ],
          "name": "stdout"
        }
      ]
    },
    {
      "cell_type": "code",
      "metadata": {
        "id": "PQXiQTro4EBx",
        "colab_type": "code",
        "colab": {}
      },
      "source": [
        "from sklearn.model_selection import train_test_split\n"
      ],
      "execution_count": 0,
      "outputs": []
    },
    {
      "cell_type": "code",
      "metadata": {
        "id": "7OKDQEWt84LN",
        "colab_type": "code",
        "colab": {}
      },
      "source": [
        "allowed_operators = ['+', '-']\n",
        "dataset_size = 100000\n",
        "data = generate_equations(allowed_operators, dataset_size, min_value=0, max_value=9999)\n",
        "\n",
        "train_set, test_set = train_test_split(data, test_size=0.2, random_state=42)"
      ],
      "execution_count": 0,
      "outputs": []
    },
    {
      "cell_type": "code",
      "metadata": {
        "id": "RwDrTAQR84OR",
        "colab_type": "code",
        "colab": {}
      },
      "source": [
        "word2id = {symbol:i for i, symbol in enumerate('#^$+-1234567890')}\n",
        "id2word = {i:symbol for symbol, i in word2id.items()}"
      ],
      "execution_count": 0,
      "outputs": []
    },
    {
      "cell_type": "code",
      "metadata": {
        "id": "wD4CvJlw84Qv",
        "colab_type": "code",
        "colab": {}
      },
      "source": [
        "start_symbol = '^'\n",
        "end_symbol = '$'\n",
        "padding_symbol = '#'"
      ],
      "execution_count": 0,
      "outputs": []
    },
    {
      "cell_type": "code",
      "metadata": {
        "id": "iee8YojiKYwl",
        "colab_type": "code",
        "colab": {}
      },
      "source": [
        "import numpy as np"
      ],
      "execution_count": 0,
      "outputs": []
    },
    {
      "cell_type": "code",
      "metadata": {
        "id": "-Fr3gXt984TA",
        "colab_type": "code",
        "colab": {}
      },
      "source": [
        "def sentence_to_ids(sentence, word2id, padded_len):\n",
        "    \"\"\" Converts a sequence of symbols to a padded sequence of their ids.\n",
        "    \n",
        "      sentence: a string, input/output sequence of symbols.\n",
        "      word2id: a dict, a mapping from original symbols to ids.\n",
        "      padded_len: an integer, a desirable length of the sequence.\n",
        "\n",
        "      result: a tuple of (a list of ids, an actual length of sentence).\n",
        "    \"\"\"\n",
        "    sent_ids = [word2id[padding_symbol]  for i in range(padded_len)] #np.full(padded_len, )\n",
        "    for i in range(padded_len):\n",
        "      if i >= len(sentence):\n",
        "        break\n",
        "      else:\n",
        "        sent_ids[i] = word2id[sentence[i]]\n",
        "        \n",
        "    if len(sentence) >= padded_len:\n",
        "      sent_ids[padded_len-1] = word2id[end_symbol]\n",
        "      sent_len = padded_len\n",
        "    else:\n",
        "      sent_ids[len(sentence)] = word2id[end_symbol]\n",
        "      sent_len = len(sentence)+1\n",
        "    return sent_ids, sent_len"
      ],
      "execution_count": 0,
      "outputs": []
    },
    {
      "cell_type": "code",
      "metadata": {
        "id": "zcRRdcor4ED-",
        "colab_type": "code",
        "colab": {}
      },
      "source": [
        "def test_sentence_to_ids():\n",
        "    sentences = [(\"123+123\", 7), (\"123+123\", 8), (\"123+123\", 10)]\n",
        "    expected_output = [([5, 6, 7, 3, 5, 6, 2], 7), \n",
        "                       ([5, 6, 7, 3, 5, 6, 7, 2], 8), \n",
        "                       ([5, 6, 7, 3, 5, 6, 7, 2, 0, 0], 8)] \n",
        "    for (sentence, padded_len), (sentence_ids, expected_length) in zip(sentences, expected_output):\n",
        "        output, length = sentence_to_ids(sentence, word2id, padded_len)\n",
        "        if output != sentence_ids:\n",
        "            return(\"Convertion of '{}' for padded_len={} to {} is incorrect.\".format(\n",
        "                sentence, padded_len, output))\n",
        "        if length != expected_length:\n",
        "            return(\"Convertion of '{}' for padded_len={} has incorrect actual length {}.\".format(\n",
        "                sentence, padded_len, length))\n",
        "    return(\"Tests passed.\")"
      ],
      "execution_count": 0,
      "outputs": []
    },
    {
      "cell_type": "code",
      "metadata": {
        "id": "SrDwA3FeRTn7",
        "colab_type": "code",
        "outputId": "99b94878-7568-4bb4-b868-005afcbe1a3b",
        "colab": {
          "base_uri": "https://localhost:8080/",
          "height": 34
        }
      },
      "source": [
        "print(test_sentence_to_ids())"
      ],
      "execution_count": 14,
      "outputs": [
        {
          "output_type": "stream",
          "text": [
            "Tests passed.\n"
          ],
          "name": "stdout"
        }
      ]
    },
    {
      "cell_type": "code",
      "metadata": {
        "id": "NVfsZq1cTarg",
        "colab_type": "code",
        "colab": {}
      },
      "source": [
        "def ids_to_sentence(ids, id2word):\n",
        "    \"\"\" Converts a sequence of ids to a sequence of symbols.\n",
        "    \n",
        "          ids: a list, indices for the padded sequence.\n",
        "          id2word:  a dict, a mapping from ids to original symbols.\n",
        "\n",
        "          result: a list of symbols.\n",
        "    \"\"\"\n",
        " \n",
        "    return [id2word[i] for i in ids]"
      ],
      "execution_count": 0,
      "outputs": []
    },
    {
      "cell_type": "code",
      "metadata": {
        "id": "41MAqf14Ta1g",
        "colab_type": "code",
        "colab": {}
      },
      "source": [
        "def batch_to_ids(sentences, word2id, max_len):\n",
        "    \"\"\"Prepares batches of indices. \n",
        "    \n",
        "       Sequences are padded to match the longest sequence in the batch,\n",
        "       if it's longer than max_len, then max_len is used instead.\n",
        "\n",
        "        sentences: a list of strings, original sequences.\n",
        "        word2id: a dict, a mapping from original symbols to ids.\n",
        "        max_len: an integer, max len of sequences allowed.\n",
        "\n",
        "        result: a list of lists of ids, a list of actual lengths.\n",
        "    \"\"\"\n",
        "    \n",
        "    max_len_in_batch = min(max(len(s) for s in sentences) + 1, max_len)\n",
        "    batch_ids, batch_ids_len = [], []\n",
        "    for sentence in sentences:\n",
        "        ids, ids_len = sentence_to_ids(sentence, word2id, max_len_in_batch)\n",
        "        batch_ids.append(ids)\n",
        "        batch_ids_len.append(ids_len)\n",
        "    return batch_ids, batch_ids_len"
      ],
      "execution_count": 0,
      "outputs": []
    },
    {
      "cell_type": "code",
      "metadata": {
        "id": "obGIYlwATa35",
        "colab_type": "code",
        "colab": {}
      },
      "source": [
        "def generate_batches(samples, batch_size=64):\n",
        "    X, Y = [], []\n",
        "    for i, (x, y) in enumerate(samples, 1):\n",
        "        X.append(x)\n",
        "        Y.append(y)\n",
        "        if i % batch_size == 0:\n",
        "            yield X, Y\n",
        "            X, Y = [], []\n",
        "    if X and Y:\n",
        "        yield X, Y"
      ],
      "execution_count": 0,
      "outputs": []
    },
    {
      "cell_type": "code",
      "metadata": {
        "id": "AZ235TvJVwNb",
        "colab_type": "code",
        "outputId": "64bf31f4-ef55-4970-d3e7-f8ab3cc69b54",
        "colab": {
          "base_uri": "https://localhost:8080/",
          "height": 88
        }
      },
      "source": [
        "sentences = train_set[0]\n",
        "ids, sent_lens = batch_to_ids(sentences, word2id, max_len=10)\n",
        "print('Input:', sentences)\n",
        "print('Ids: {}\\nSentences lengths: {}'.format(ids, sent_lens))"
      ],
      "execution_count": 18,
      "outputs": [
        {
          "output_type": "stream",
          "text": [
            "Input: ('3928+6016', '9944')\n",
            "Ids: [[7, 13, 6, 12, 3, 10, 14, 5, 10, 2], [13, 13, 8, 8, 2, 0, 0, 0, 0, 0]]\n",
            "Sentences lengths: [10, 5]\n"
          ],
          "name": "stdout"
        }
      ]
    },
    {
      "cell_type": "code",
      "metadata": {
        "id": "iLBulL9OWWWO",
        "colab_type": "code",
        "colab": {}
      },
      "source": [
        "import tensorflow as tf"
      ],
      "execution_count": 0,
      "outputs": []
    },
    {
      "cell_type": "code",
      "metadata": {
        "id": "a8x0OYMIWWeu",
        "colab_type": "code",
        "outputId": "019c5d8a-2196-4c72-d978-acbe4947574e",
        "colab": {
          "base_uri": "https://localhost:8080/",
          "height": 34
        }
      },
      "source": [
        "print (tf.__version__)"
      ],
      "execution_count": 20,
      "outputs": [
        {
          "output_type": "stream",
          "text": [
            "1.13.1\n"
          ],
          "name": "stdout"
        }
      ]
    },
    {
      "cell_type": "code",
      "metadata": {
        "id": "h3JtNYUUWWhW",
        "colab_type": "code",
        "colab": {}
      },
      "source": [
        "class Seq2SeqModel (object):\n",
        "  pass\n"
      ],
      "execution_count": 0,
      "outputs": []
    },
    {
      "cell_type": "code",
      "metadata": {
        "id": "yR4hyBf2WWjq",
        "colab_type": "code",
        "colab": {}
      },
      "source": [
        "def declare_placeholders(self):\n",
        "    \"\"\"Specifies placeholders for the model.\"\"\"\n",
        "    \n",
        "    # Placeholders for input and its actual lengths.\n",
        "    self.input_batch = tf.placeholder(shape=(None, None), dtype=tf.int32, name='input_batch')\n",
        "    self.input_batch_lengths = tf.placeholder(shape=(None, ), dtype=tf.int32, name='input_batch_lengths')\n",
        "    \n",
        "    # Placeholders for groundtruth and its actual lengths.\n",
        "    self.ground_truth = tf.placeholder(shape =(None, None), dtype= tf.int32, name= 'ground_truth')\n",
        "    self.ground_truth_lengths = tf.placeholder(shape=(None,), dtype=tf.int32, name= 'ground_truth_lengths')\n",
        "        \n",
        "    self.dropout_ph = tf.placeholder_with_default(tf.cast(1.0, tf.float32), shape=[])\n",
        "    self.learning_rate_ph = tf.placeholder(shape=[],dtype= tf.float32)"
      ],
      "execution_count": 0,
      "outputs": []
    },
    {
      "cell_type": "code",
      "metadata": {
        "id": "EFVpr0oCboI4",
        "colab_type": "code",
        "colab": {}
      },
      "source": [
        "Seq2SeqModel.__declare_placeholders = classmethod(declare_placeholders)"
      ],
      "execution_count": 0,
      "outputs": []
    },
    {
      "cell_type": "code",
      "metadata": {
        "id": "7WsqJqOIdaau",
        "colab_type": "code",
        "colab": {}
      },
      "source": [
        "\n",
        "def create_embeddings(self, vocab_size, embeddings_size):\n",
        "    \"\"\"Specifies embeddings layer and embeds an input batch.\"\"\"\n",
        "     \n",
        "    random_initializer = tf.random_uniform((vocab_size, embeddings_size), -1.0, 1.0)\n",
        "    self.embeddings = tf.Variable(random_initializer, dtype= tf.float32, name= 'embeddings')\n",
        "    \n",
        "    # Perform embeddings lookup for self.input_batch. \n",
        "    self.input_batch_embedded = tf.nn.embedding_lookup(self.embeddings,self.input_batch)"
      ],
      "execution_count": 0,
      "outputs": []
    },
    {
      "cell_type": "code",
      "metadata": {
        "id": "ZvClaXCqdagL",
        "colab_type": "code",
        "colab": {}
      },
      "source": [
        "Seq2SeqModel.__create_embeddings = classmethod(create_embeddings)"
      ],
      "execution_count": 0,
      "outputs": []
    },
    {
      "cell_type": "code",
      "metadata": {
        "id": "UZwM-ucGdajA",
        "colab_type": "code",
        "colab": {}
      },
      "source": [
        "def build_encoder(self, hidden_size):\n",
        "    \"\"\"Specifies encoder architecture and computes its output.\"\"\"\n",
        "    \n",
        "    # Create GRUCell with dropout.\n",
        "    encoder_cell = tf.nn.rnn_cell.DropoutWrapper(tf.nn.rnn_cell.GRUCell(hidden_size),input_keep_prob= self.dropout_ph, output_keep_prob = self.dropout_ph, state_keep_prob= self.dropout_ph)\n",
        "    \n",
        "    # Create RNN with the predefined cell.\n",
        "    _, self.final_encoder_state = tf.nn.dynamic_rnn(encoder_cell,self.input_batch_embedded, sequence_length=  self.input_batch_lengths, dtype= tf.float32 )\n",
        "    \n",
        "    "
      ],
      "execution_count": 0,
      "outputs": []
    },
    {
      "cell_type": "code",
      "metadata": {
        "id": "WtHP2EzT5YAj",
        "colab_type": "code",
        "colab": {}
      },
      "source": [
        "Seq2SeqModel.__build_encoder= classmethod(build_encoder)\n"
      ],
      "execution_count": 0,
      "outputs": []
    },
    {
      "cell_type": "code",
      "metadata": {
        "id": "bw2nP7At5iHb",
        "colab_type": "code",
        "colab": {}
      },
      "source": [
        "\n",
        "def build_decoder(self, hidden_size, vocab_size, max_iter, start_symbol_id, end_symbol_id):\n",
        "    \"\"\"Specifies decoder architecture and computes the output.\n",
        "    \n",
        "        Uses different helpers:\n",
        "          - for train: feeding ground truth\n",
        "          - for inference: feeding generated output\n",
        "\n",
        "        As a result, self.train_outputs and self.infer_outputs are created. \n",
        "        Each of them contains two fields:\n",
        "          rnn_output (predicted logits)\n",
        "          sample_id (predictions).\n",
        "\n",
        "    \"\"\"\n",
        "    \n",
        "    # Use start symbols as the decoder inputs at the first time step.\n",
        "    batch_size = tf.shape(self.input_batch)[0]\n",
        "    start_tokens = tf.fill([batch_size], start_symbol_id)\n",
        "    ground_truth_as_input = tf.concat([tf.expand_dims(start_tokens, 1), self.ground_truth], 1)\n",
        "    \n",
        "    # Use the embedding layer defined before to lookup embedings for ground_truth_as_input. \n",
        "    self.ground_truth_embedded = tf.nn.embedding_lookup(self.embeddings,ground_truth_as_input)\n",
        "     \n",
        "    # Create TrainingHelper for the train stage.\n",
        "    train_helper = tf.contrib.seq2seq.TrainingHelper(self.ground_truth_embedded, \n",
        "                                                     self.ground_truth_lengths)\n",
        "    \n",
        "    # Create GreedyEmbeddingHelper for the inference stage.\n",
        "    # You should provide the embedding layer, start_tokens and index of the end symbol.\n",
        "    infer_helper = tf.contrib.seq2seq.GreedyEmbeddingHelper(self.embeddings,start_tokens= start_tokens,end_token=end_symbol_id)\n",
        "    \n",
        "  \n",
        "    def decode(helper, scope, reuse=None):\n",
        "        \"\"\"Creates decoder and return the results of the decoding with a given helper.\"\"\"\n",
        "        \n",
        "        with tf.variable_scope(scope, reuse=reuse):\n",
        "            # Create GRUCell with dropout. Do not forget to set the reuse flag properly.\n",
        "            decoder_cell = tf.contrib.rnn.DropoutWrapper(tf.nn.rnn_cell.GRUCell(hidden_size,reuse = reuse), self.dropout_ph)\n",
        "            \n",
        "            # Create a projection wrapper.\n",
        "            decoder_cell = tf.contrib.rnn.OutputProjectionWrapper(decoder_cell, vocab_size, reuse=reuse)\n",
        "            \n",
        "            # Create BasicDecoder, pass the defined cell, a helper, and initial state.\n",
        "            # The initial state should be equal to the final state of the encoder!\n",
        "            decoder = tf.contrib.seq2seq.BasicDecoder(decoder_cell, helper=helper, initial_state=self.final_encoder_state)\n",
        "            \n",
        "            # The first returning argument of dynamic_decode contains two fields:\n",
        "            #   rnn_output (predicted logits)\n",
        "            #   sample_id (predictions)\n",
        "            outputs, _, _ = tf.contrib.seq2seq.dynamic_decode(decoder=decoder, maximum_iterations=max_iter, \n",
        "                                                              output_time_major=False, impute_finished=True)\n",
        "\n",
        "            return outputs\n",
        "        \n",
        "    self.train_outputs = decode(train_helper, 'decode')\n",
        "    self.infer_outputs = decode(infer_helper, 'decode', reuse=True)"
      ],
      "execution_count": 0,
      "outputs": []
    },
    {
      "cell_type": "code",
      "metadata": {
        "id": "y2kuAthF5iLU",
        "colab_type": "code",
        "colab": {}
      },
      "source": [
        "Seq2SeqModel.__build_decoder = classmethod(build_decoder)"
      ],
      "execution_count": 0,
      "outputs": []
    },
    {
      "cell_type": "code",
      "metadata": {
        "id": "mjDrv5Hc5iNy",
        "colab_type": "code",
        "colab": {}
      },
      "source": [
        "def compute_loss(self):\n",
        "    \"\"\"Computes sequence loss (masked cross-entopy loss with logits).\"\"\"\n",
        "    \n",
        "    weights = tf.cast(tf.sequence_mask(self.ground_truth_lengths), dtype=tf.float32)\n",
        "    \n",
        "    self.loss = tf.contrib.seq2seq.sequence_loss( logits =self.train_outputs.rnn_output, targets= self.ground_truth, weights = weights )"
      ],
      "execution_count": 0,
      "outputs": []
    },
    {
      "cell_type": "code",
      "metadata": {
        "id": "TS7c430r5iQJ",
        "colab_type": "code",
        "colab": {}
      },
      "source": [
        "Seq2SeqModel.__compute_loss = classmethod(compute_loss)"
      ],
      "execution_count": 0,
      "outputs": []
    },
    {
      "cell_type": "code",
      "metadata": {
        "id": "uBhex5pUHwlA",
        "colab_type": "code",
        "colab": {}
      },
      "source": [
        "def perform_optimization(self):\n",
        "    \"\"\"Specifies train_op that optimizes self.loss.\"\"\"\n",
        "    \n",
        "    self.train_op = tf.contrib.layers.optimize_loss( self.loss, global_step= tf.train.get_global_step(), learning_rate= self.learning_rate_ph, optimizer= 'Adam', clip_gradients = 1.0   )"
      ],
      "execution_count": 0,
      "outputs": []
    },
    {
      "cell_type": "code",
      "metadata": {
        "id": "Fcu54jdqHwni",
        "colab_type": "code",
        "colab": {}
      },
      "source": [
        "Seq2SeqModel.__perform_optimization = classmethod(perform_optimization)"
      ],
      "execution_count": 0,
      "outputs": []
    },
    {
      "cell_type": "code",
      "metadata": {
        "id": "-EaC8BYfI9m4",
        "colab_type": "code",
        "colab": {}
      },
      "source": [
        "def init_model(self, vocab_size, embeddings_size, hidden_size, \n",
        "               max_iter, start_symbol_id, end_symbol_id, padding_symbol_id):\n",
        "    \n",
        "    self.__declare_placeholders()\n",
        "    self.__create_embeddings(vocab_size, embeddings_size)\n",
        "    self.__build_encoder(hidden_size)\n",
        "    self.__build_decoder(hidden_size, vocab_size, max_iter, start_symbol_id, end_symbol_id)\n",
        "    \n",
        "    # Compute loss and back-propagate.\n",
        "    self.__compute_loss()\n",
        "    self.__perform_optimization()\n",
        "    \n",
        "    # Get predictions for evaluation.\n",
        "    self.train_predictions = self.train_outputs.sample_id\n",
        "    self.infer_predictions = self.infer_outputs.sample_id"
      ],
      "execution_count": 0,
      "outputs": []
    },
    {
      "cell_type": "code",
      "metadata": {
        "id": "QbyyJurfJHcj",
        "colab_type": "code",
        "colab": {}
      },
      "source": [
        "Seq2SeqModel.__init__ = classmethod(init_model)"
      ],
      "execution_count": 0,
      "outputs": []
    },
    {
      "cell_type": "code",
      "metadata": {
        "id": "LwLXDKsoJHe7",
        "colab_type": "code",
        "colab": {}
      },
      "source": [
        "def train_on_batch(self, session, X, X_seq_len, Y, Y_seq_len, learning_rate, dropout_keep_probability):\n",
        "    feed_dict = {\n",
        "            self.input_batch: X,\n",
        "            self.input_batch_lengths: X_seq_len,\n",
        "            self.ground_truth: Y,\n",
        "            self.ground_truth_lengths: Y_seq_len,\n",
        "            self.learning_rate_ph: learning_rate,\n",
        "            self.dropout_ph: dropout_keep_probability\n",
        "        }\n",
        "    pred, loss, _ = session.run([\n",
        "            self.train_predictions,\n",
        "            self.loss,\n",
        "            self.train_op], feed_dict=feed_dict)\n",
        "    return pred, loss"
      ],
      "execution_count": 0,
      "outputs": []
    },
    {
      "cell_type": "code",
      "metadata": {
        "id": "KCKqpaCpJHhz",
        "colab_type": "code",
        "colab": {}
      },
      "source": [
        "Seq2SeqModel.train_on_batch = classmethod(train_on_batch)"
      ],
      "execution_count": 0,
      "outputs": []
    },
    {
      "cell_type": "code",
      "metadata": {
        "id": "cTUWd4CuKzW5",
        "colab_type": "code",
        "colab": {}
      },
      "source": [
        "def predict_for_batch(self, session, X, X_seq_len):\n",
        "    feed_dict = {self.input_batch: X, self.input_batch_lengths: X_seq_len}\n",
        "    pred = session.run([\n",
        "            self.infer_predictions\n",
        "        ], feed_dict=feed_dict)[0]\n",
        "    return pred\n",
        "\n",
        "def predict_for_batch_with_loss(self, session, X, X_seq_len, Y, Y_seq_len):\n",
        "    feed_dict = {self.input_batch: X, self.input_batch_lengths: X_seq_len, self.ground_truth: Y,\n",
        "            self.ground_truth_lengths: Y_seq_len }\n",
        "    pred, loss = session.run([\n",
        "            self.infer_predictions,\n",
        "            self.loss,\n",
        "        ], feed_dict=feed_dict)\n",
        "    return pred, loss"
      ],
      "execution_count": 0,
      "outputs": []
    },
    {
      "cell_type": "code",
      "metadata": {
        "id": "Dt4RtxJFLnrc",
        "colab_type": "code",
        "colab": {}
      },
      "source": [
        "\n",
        "Seq2SeqModel.predict_for_batch = classmethod(predict_for_batch)\n",
        "Seq2SeqModel.predict_for_batch_with_loss = classmethod(predict_for_batch_with_loss)"
      ],
      "execution_count": 0,
      "outputs": []
    },
    {
      "cell_type": "code",
      "metadata": {
        "id": "NIHgitD4Loj8",
        "colab_type": "code",
        "outputId": "71eafd52-17b8-4262-9cd2-42fd71a35985",
        "colab": {
          "base_uri": "https://localhost:8080/",
          "height": 411
        }
      },
      "source": [
        "tf.reset_default_graph()\n",
        "\n",
        "model = Seq2SeqModel(len(word2id), 20, 512, 7, word2id['^'], word2id['$'], word2id['#'])\n",
        "\n",
        "batch_size = 128\n",
        "n_epochs = 10\n",
        "learning_rate = 0.001\n",
        "dropout_keep_probability = 0.5\n",
        "max_len = 20\n",
        "\n",
        "n_step = int(len(train_set) / batch_size)"
      ],
      "execution_count": 39,
      "outputs": [
        {
          "output_type": "stream",
          "text": [
            "WARNING:tensorflow:From /usr/local/lib/python3.6/dist-packages/tensorflow/python/framework/op_def_library.py:263: colocate_with (from tensorflow.python.framework.ops) is deprecated and will be removed in a future version.\n",
            "Instructions for updating:\n",
            "Colocations handled automatically by placer.\n",
            "WARNING:tensorflow:From <ipython-input-25-bc7b6bcbfb89>:5: GRUCell.__init__ (from tensorflow.python.ops.rnn_cell_impl) is deprecated and will be removed in a future version.\n",
            "Instructions for updating:\n",
            "This class is equivalent as tf.keras.layers.GRUCell, and will be replaced by that in Tensorflow 2.0.\n",
            "WARNING:tensorflow:From <ipython-input-25-bc7b6bcbfb89>:8: dynamic_rnn (from tensorflow.python.ops.rnn) is deprecated and will be removed in a future version.\n",
            "Instructions for updating:\n",
            "Please use `keras.layers.RNN(cell)`, which is equivalent to this API\n",
            "WARNING:tensorflow:From /usr/local/lib/python3.6/dist-packages/tensorflow/python/ops/rnn.py:626: to_int32 (from tensorflow.python.ops.math_ops) is deprecated and will be removed in a future version.\n",
            "Instructions for updating:\n",
            "Use tf.cast instead.\n",
            "WARNING:tensorflow:From /usr/local/lib/python3.6/dist-packages/tensorflow/python/ops/rnn_cell_impl.py:1259: calling dropout (from tensorflow.python.ops.nn_ops) with keep_prob is deprecated and will be removed in a future version.\n",
            "Instructions for updating:\n",
            "Please use `rate` instead of `keep_prob`. Rate should be set to `rate = 1 - keep_prob`.\n",
            "\n",
            "WARNING: The TensorFlow contrib module will not be included in TensorFlow 2.0.\n",
            "For more information, please see:\n",
            "  * https://github.com/tensorflow/community/blob/master/rfcs/20180907-contrib-sunset.md\n",
            "  * https://github.com/tensorflow/addons\n",
            "If you depend on functionality not listed there, please file an issue.\n",
            "\n"
          ],
          "name": "stdout"
        }
      ]
    },
    {
      "cell_type": "code",
      "metadata": {
        "id": "gqPjiNNASTFD",
        "colab_type": "code",
        "outputId": "45becf21-363c-44da-e9c7-eafedc295bb6",
        "colab": {
          "base_uri": "https://localhost:8080/",
          "height": 3315
        }
      },
      "source": [
        "\n",
        "session = tf.Session()\n",
        "session.run(tf.global_variables_initializer())\n",
        "            \n",
        "invalid_number_prediction_counts = []\n",
        "all_model_predictions = []\n",
        "all_ground_truth = []\n",
        "\n",
        "print('Start training... \\n')\n",
        "for epoch in range(n_epochs):  \n",
        "    random.shuffle(train_set)\n",
        "    random.shuffle(test_set)\n",
        "    \n",
        "    #clear_output()\n",
        "    print('Train: Epoch', epoch + 1)\n",
        "    for n_iter, (X_batch, Y_batch) in enumerate(generate_batches(train_set, batch_size=batch_size)):\n",
        "        \n",
        "        x, x_len = batch_to_ids(X_batch, word2id, max_len=max_len)\n",
        "        y, y_len = batch_to_ids(Y_batch, word2id, max_len=max_len)\n",
        "        \n",
        "        # prepare the data (X_batch and Y_batch) for training\n",
        "        # using function batch_to_ids\n",
        "        predictions, loss = model.train_on_batch(session=session,\n",
        "                                                 X=x, Y=y,\n",
        "                                                 X_seq_len=x_len,\n",
        "                                                 Y_seq_len=y_len,\n",
        "                                                 learning_rate=learning_rate,\n",
        "                                                 dropout_keep_probability=dropout_keep_probability)\n",
        "        \n",
        "        \n",
        "        if n_iter % 200 == 0:\n",
        "            print(\"Epoch: [%d/%d], step: [%d/%d], Loss: %f\" % (epoch + 1, n_epochs, n_iter + 1, n_step, loss))\n",
        "                \n",
        "    X_sent, Y_sent = next(generate_batches(test_set, batch_size=batch_size))\n",
        "    \n",
        "    X, X_sent_lens = batch_to_ids(X_sent, word2id, max_len=max_len)\n",
        "    Y, Y_sent_lens = batch_to_ids(Y_sent, word2id, max_len=max_len)\n",
        "    \n",
        "    # prepare test data (X_sent and Y_sent) for predicting \n",
        "    # quality and computing value of the loss function\n",
        "    # using function batch_to_ids\n",
        "    \n",
        "    predictions, loss = model.predict_for_batch_with_loss(session, X, X_sent_lens, Y, Y_sent_lens)\n",
        "    \n",
        "    print('\\nTest: Epoch', epoch + 1, 'Loss:', loss,)\n",
        "    for x, y, p  in list(zip(X, Y, predictions))[:3]:\n",
        "        print('X:',''.join(ids_to_sentence(x, id2word)))\n",
        "        print('Y:',''.join(ids_to_sentence(y, id2word)))\n",
        "        print('O:',''.join(ids_to_sentence(p, id2word)))\n",
        "        print('')\n",
        "\n",
        "    model_predictions = []\n",
        "    ground_truth = []\n",
        "    invalid_number_prediction_count = 0\n",
        "    \n",
        "    # For the whole test set calculate ground-truth values (as integer numbers)\n",
        "    # and prediction values (also as integers) to calculate metrics.\n",
        "    # If generated by model number is not correct (e.g. '1-1'), \n",
        "    # increase invalid_number_prediction_count and don't append this and corresponding\n",
        "    # ground-truth value to the arrays.\n",
        "    \n",
        "    for X_batch, Y_batch in generate_batches(test_set, batch_size=batch_size):\n",
        "        \n",
        "        X, X_len = batch_to_ids(X_batch, word2id, max_len=max_len)\n",
        "        Y, Y_len = batch_to_ids(Y_batch, word2id, max_len=max_len)\n",
        "        predictions = model.predict_for_batch(session, X, X_len)\n",
        "        \n",
        "        for Y_true, Y_pred in zip(Y, predictions):\n",
        "            \n",
        "            try:\n",
        "                end_token = '$'\n",
        "                Y_true, Y_pred = ''.join(ids_to_sentence(Y_true, id2word)), ''.join(ids_to_sentence(Y_pred, id2word))\n",
        "                Y_true, Y_pred = Y_true[:Y_true.find(end_token)], Y_pred[:Y_pred.find(end_token)]\n",
        "                model_predictions.append(int(Y_pred))\n",
        "                ground_truth.append(int(Y_true))\n",
        "                \n",
        "            except:\n",
        "                invalid_number_prediction_count = invalid_number_prediction_count + 1\n",
        "    \n",
        "    # Final results\n",
        "    all_model_predictions.append(model_predictions)\n",
        "    all_ground_truth.append(ground_truth)\n",
        "    invalid_number_prediction_counts.append(invalid_number_prediction_count)\n",
        "            \n",
        "print('\\n...training finished.')"
      ],
      "execution_count": 40,
      "outputs": [
        {
          "output_type": "stream",
          "text": [
            "Start training... \n",
            "\n",
            "Train: Epoch 1\n",
            "Epoch: [1/10], step: [1/625], Loss: 2.736478\n",
            "Epoch: [1/10], step: [201/625], Loss: 1.904754\n",
            "Epoch: [1/10], step: [401/625], Loss: 1.823560\n",
            "Epoch: [1/10], step: [601/625], Loss: 1.789265\n",
            "\n",
            "Test: Epoch 1 Loss: 1.7626752\n",
            "X: 5531+573$#\n",
            "Y: 6104$#\n",
            "O: 10149$\n",
            "\n",
            "X: 9251-40$##\n",
            "Y: 9211$#\n",
            "O: 3398$#\n",
            "\n",
            "X: 9472+4728$\n",
            "Y: 14200$\n",
            "O: 13149$\n",
            "\n",
            "Train: Epoch 2\n",
            "Epoch: [2/10], step: [1/625], Loss: 1.788871\n",
            "Epoch: [2/10], step: [201/625], Loss: 1.731059\n",
            "Epoch: [2/10], step: [401/625], Loss: 1.707521\n",
            "Epoch: [2/10], step: [601/625], Loss: 1.689400\n",
            "\n",
            "Test: Epoch 2 Loss: 1.6315792\n",
            "X: 9273-8435$\n",
            "Y: 838$##\n",
            "O: 186$##\n",
            "\n",
            "X: 1429+4271$\n",
            "Y: 5700$#\n",
            "O: 7066$#\n",
            "\n",
            "X: 7133+9039$\n",
            "Y: 16172$\n",
            "O: 16666$\n",
            "\n",
            "Train: Epoch 3\n",
            "Epoch: [3/10], step: [1/625], Loss: 1.649334\n",
            "Epoch: [3/10], step: [201/625], Loss: 1.670164\n",
            "Epoch: [3/10], step: [401/625], Loss: 1.635076\n",
            "Epoch: [3/10], step: [601/625], Loss: 1.577487\n",
            "\n",
            "Test: Epoch 3 Loss: 1.5412343\n",
            "X: 6366+2210$\n",
            "Y: 8576$#\n",
            "O: 8800$#\n",
            "\n",
            "X: 621-8714$#\n",
            "Y: -8093$\n",
            "O: -7000$\n",
            "\n",
            "X: 7781+6240$\n",
            "Y: 14021$\n",
            "O: 15100$\n",
            "\n",
            "Train: Epoch 4\n",
            "Epoch: [4/10], step: [1/625], Loss: 1.643987\n",
            "Epoch: [4/10], step: [201/625], Loss: 1.631324\n",
            "Epoch: [4/10], step: [401/625], Loss: 1.616643\n",
            "Epoch: [4/10], step: [601/625], Loss: 1.567016\n",
            "\n",
            "Test: Epoch 4 Loss: 1.5245979\n",
            "X: 4246+4739$\n",
            "Y: 8985$#\n",
            "O: 8687$#\n",
            "\n",
            "X: 7482-7061$\n",
            "Y: 421$##\n",
            "O: -103$#\n",
            "\n",
            "X: 6018-9083$\n",
            "Y: -3065$\n",
            "O: -2333$\n",
            "\n",
            "Train: Epoch 5\n",
            "Epoch: [5/10], step: [1/625], Loss: 1.575822\n",
            "Epoch: [5/10], step: [201/625], Loss: 1.561154\n",
            "Epoch: [5/10], step: [401/625], Loss: 1.593939\n",
            "Epoch: [5/10], step: [601/625], Loss: 1.567211\n",
            "\n",
            "Test: Epoch 5 Loss: 1.477723\n",
            "X: 3351+2652$\n",
            "Y: 6003$#\n",
            "O: 5906$#\n",
            "\n",
            "X: 3444-974$#\n",
            "Y: 2470$#\n",
            "O: 2666$#\n",
            "\n",
            "X: 497-1085$#\n",
            "Y: -588$#\n",
            "O: -105$#\n",
            "\n",
            "Train: Epoch 6\n",
            "Epoch: [6/10], step: [1/625], Loss: 1.573730\n",
            "Epoch: [6/10], step: [201/625], Loss: 1.568350\n",
            "Epoch: [6/10], step: [401/625], Loss: 1.550225\n",
            "Epoch: [6/10], step: [601/625], Loss: 1.577026\n",
            "\n",
            "Test: Epoch 6 Loss: 1.4850444\n",
            "X: 2526+3269$\n",
            "Y: 5795$#\n",
            "O: 5922$#\n",
            "\n",
            "X: 1655-5767$\n",
            "Y: -4112$\n",
            "O: -4795$\n",
            "\n",
            "X: 6309-4512$\n",
            "Y: 1797$#\n",
            "O: 1222$#\n",
            "\n",
            "Train: Epoch 7\n",
            "Epoch: [7/10], step: [1/625], Loss: 1.532042\n",
            "Epoch: [7/10], step: [201/625], Loss: 1.542463\n",
            "Epoch: [7/10], step: [401/625], Loss: 1.528549\n",
            "Epoch: [7/10], step: [601/625], Loss: 1.555569\n",
            "\n",
            "Test: Epoch 7 Loss: 1.4237413\n",
            "X: 6721-2090$\n",
            "Y: 4631$#\n",
            "O: 5088$#\n",
            "\n",
            "X: 5799+6595$\n",
            "Y: 12394$\n",
            "O: 12908$\n",
            "\n",
            "X: 167-3735$#\n",
            "Y: -3568$\n",
            "O: -3088$\n",
            "\n",
            "Train: Epoch 8\n",
            "Epoch: [8/10], step: [1/625], Loss: 1.560792\n",
            "Epoch: [8/10], step: [201/625], Loss: 1.497043\n",
            "Epoch: [8/10], step: [401/625], Loss: 1.560007\n",
            "Epoch: [8/10], step: [601/625], Loss: 1.518398\n",
            "\n",
            "Test: Epoch 8 Loss: 1.4308906\n",
            "X: 2931+1048$\n",
            "Y: 3979$#\n",
            "O: 4111$#\n",
            "\n",
            "X: 4818+7034$\n",
            "Y: 11852$\n",
            "O: 12111$\n",
            "\n",
            "X: 2084+9326$\n",
            "Y: 11410$\n",
            "O: 11511$\n",
            "\n",
            "Train: Epoch 9\n",
            "Epoch: [9/10], step: [1/625], Loss: 1.498256\n",
            "Epoch: [9/10], step: [201/625], Loss: 1.541293\n",
            "Epoch: [9/10], step: [401/625], Loss: 1.531775\n",
            "Epoch: [9/10], step: [601/625], Loss: 1.503807\n",
            "\n",
            "Test: Epoch 9 Loss: 1.4178501\n",
            "X: 9286-4314$\n",
            "Y: 4972$#\n",
            "O: 5699$#\n",
            "\n",
            "X: 5819-7178$\n",
            "Y: -1359$\n",
            "O: -1799$\n",
            "\n",
            "X: 5700-9217$\n",
            "Y: -3517$\n",
            "O: -3099$\n",
            "\n",
            "Train: Epoch 10\n",
            "Epoch: [10/10], step: [1/625], Loss: 1.483650\n",
            "Epoch: [10/10], step: [201/625], Loss: 1.511179\n",
            "Epoch: [10/10], step: [401/625], Loss: 1.498439\n",
            "Epoch: [10/10], step: [601/625], Loss: 1.531170\n",
            "\n",
            "Test: Epoch 10 Loss: 1.4277679\n",
            "X: 2069+3994$\n",
            "Y: 6063$#\n",
            "O: 6556$#\n",
            "\n",
            "X: 3332-579$#\n",
            "Y: 2753$#\n",
            "O: 2884$#\n",
            "\n",
            "X: 4768-9040$\n",
            "Y: -4272$\n",
            "O: -4653$\n",
            "\n",
            "\n",
            "...training finished.\n"
          ],
          "name": "stdout"
        }
      ]
    },
    {
      "cell_type": "code",
      "metadata": {
        "id": "qWaJDpg-6Jck",
        "colab_type": "code",
        "colab": {}
      },
      "source": [
        "from sklearn.metrics import mean_absolute_error"
      ],
      "execution_count": 0,
      "outputs": []
    },
    {
      "cell_type": "code",
      "metadata": {
        "id": "XJwg7Ysc6KwL",
        "colab_type": "code",
        "colab": {
          "base_uri": "https://localhost:8080/",
          "height": 187
        },
        "outputId": "71b9a8b4-5741-4fb7-f7c3-bd00b1eaf72b"
      },
      "source": [
        "\n",
        "for i, (gts, predictions, invalid_number_prediction_count) in enumerate(zip(all_ground_truth,\n",
        "                                                                            all_model_predictions,\n",
        "                                                                            invalid_number_prediction_counts), 1):\n",
        "    mae = mean_absolute_error(gts, predictions)\n",
        "    print(\"Epoch: %i, MAE: %f, Invalid numbers: %i\" % (i, mae, invalid_number_prediction_count))"
      ],
      "execution_count": 42,
      "outputs": [
        {
          "output_type": "stream",
          "text": [
            "Epoch: 1, MAE: 2518.912200, Invalid numbers: 0\n",
            "Epoch: 2, MAE: 1094.060500, Invalid numbers: 0\n",
            "Epoch: 3, MAE: 644.395350, Invalid numbers: 0\n",
            "Epoch: 4, MAE: 527.084500, Invalid numbers: 0\n",
            "Epoch: 5, MAE: 478.802150, Invalid numbers: 0\n",
            "Epoch: 6, MAE: 519.953850, Invalid numbers: 0\n",
            "Epoch: 7, MAE: 427.954800, Invalid numbers: 0\n",
            "Epoch: 8, MAE: 354.241200, Invalid numbers: 0\n",
            "Epoch: 9, MAE: 428.570200, Invalid numbers: 0\n",
            "Epoch: 10, MAE: 331.852650, Invalid numbers: 0\n"
          ],
          "name": "stdout"
        }
      ]
    },
    {
      "cell_type": "code",
      "metadata": {
        "id": "q75LqrwN6K4f",
        "colab_type": "code",
        "colab": {
          "base_uri": "https://localhost:8080/",
          "height": 258
        },
        "outputId": "bda2ceb7-6d1e-4156-ea24-79079a652ce0"
      },
      "source": [
        "tf.reset_default_graph()\n",
        "\n",
        "model = Seq2SeqModel(len(word2id), 20, 512, 7, word2id['^'], word2id['$'], word2id['#'])\n",
        "\n",
        "batch_size = 128\n",
        "n_epochs = 20\n",
        "learning_rate = 0.001\n",
        "dropout_keep_probability = 0.7\n",
        "max_len = 20\n",
        "\n",
        "n_step = int(len(train_set) / batch_size)"
      ],
      "execution_count": 40,
      "outputs": [
        {
          "output_type": "stream",
          "text": [
            "WARNING:tensorflow:From /usr/local/lib/python3.6/dist-packages/tensorflow/python/ops/rnn.py:626: to_int32 (from tensorflow.python.ops.math_ops) is deprecated and will be removed in a future version.\n",
            "Instructions for updating:\n",
            "Use tf.cast instead.\n",
            "WARNING:tensorflow:From /usr/local/lib/python3.6/dist-packages/tensorflow/python/ops/rnn_cell_impl.py:1259: calling dropout (from tensorflow.python.ops.nn_ops) with keep_prob is deprecated and will be removed in a future version.\n",
            "Instructions for updating:\n",
            "Please use `rate` instead of `keep_prob`. Rate should be set to `rate = 1 - keep_prob`.\n",
            "\n",
            "WARNING: The TensorFlow contrib module will not be included in TensorFlow 2.0.\n",
            "For more information, please see:\n",
            "  * https://github.com/tensorflow/community/blob/master/rfcs/20180907-contrib-sunset.md\n",
            "  * https://github.com/tensorflow/addons\n",
            "If you depend on functionality not listed there, please file an issue.\n",
            "\n"
          ],
          "name": "stdout"
        }
      ]
    },
    {
      "cell_type": "code",
      "metadata": {
        "id": "4ROHVmHBLf2K",
        "colab_type": "code",
        "colab": {
          "base_uri": "https://localhost:8080/",
          "height": 6545
        },
        "outputId": "bad22f8d-67f2-42dd-919c-e88107bdec58"
      },
      "source": [
        "\n",
        "session = tf.Session()\n",
        "session.run(tf.global_variables_initializer())\n",
        "            \n",
        "invalid_number_prediction_counts = []\n",
        "all_model_predictions = []\n",
        "all_ground_truth = []\n",
        "\n",
        "print('Start training... \\n')\n",
        "for epoch in range(n_epochs):  \n",
        "    random.shuffle(train_set)\n",
        "    random.shuffle(test_set)\n",
        "    \n",
        "    #clear_output()\n",
        "    print('Train: Epoch', epoch + 1)\n",
        "    for n_iter, (X_batch, Y_batch) in enumerate(generate_batches(train_set, batch_size=batch_size)):\n",
        "        \n",
        "        x, x_len = batch_to_ids(X_batch, word2id, max_len=max_len)\n",
        "        y, y_len = batch_to_ids(Y_batch, word2id, max_len=max_len)\n",
        "        \n",
        "        # prepare the data (X_batch and Y_batch) for training\n",
        "        # using function batch_to_ids\n",
        "        predictions, loss = model.train_on_batch(session=session,\n",
        "                                                 X=x, Y=y,\n",
        "                                                 X_seq_len=x_len,\n",
        "                                                 Y_seq_len=y_len,\n",
        "                                                 learning_rate=learning_rate,\n",
        "                                                 dropout_keep_probability=dropout_keep_probability)\n",
        "        \n",
        "        \n",
        "        if n_iter % 200 == 0:\n",
        "            print(\"Epoch: [%d/%d], step: [%d/%d], Loss: %f\" % (epoch + 1, n_epochs, n_iter + 1, n_step, loss))\n",
        "                \n",
        "    X_sent, Y_sent = next(generate_batches(test_set, batch_size=batch_size))\n",
        "    \n",
        "    X, X_sent_lens = batch_to_ids(X_sent, word2id, max_len=max_len)\n",
        "    Y, Y_sent_lens = batch_to_ids(Y_sent, word2id, max_len=max_len)\n",
        "    \n",
        "    # prepare test data (X_sent and Y_sent) for predicting \n",
        "    # quality and computing value of the loss function\n",
        "    # using function batch_to_ids\n",
        "    \n",
        "    predictions, loss = model.predict_for_batch_with_loss(session, X, X_sent_lens, Y, Y_sent_lens)\n",
        "    \n",
        "    print('\\nTest: Epoch', epoch + 1, 'Loss:', loss,)\n",
        "    for x, y, p  in list(zip(X, Y, predictions))[:3]:\n",
        "        print('X:',''.join(ids_to_sentence(x, id2word)))\n",
        "        print('Y:',''.join(ids_to_sentence(y, id2word)))\n",
        "        print('O:',''.join(ids_to_sentence(p, id2word)))\n",
        "        print('')\n",
        "\n",
        "    model_predictions = []\n",
        "    ground_truth = []\n",
        "    invalid_number_prediction_count = 0\n",
        "    \n",
        "    # For the whole test set calculate ground-truth values (as integer numbers)\n",
        "    # and prediction values (also as integers) to calculate metrics.\n",
        "    # If generated by model number is not correct (e.g. '1-1'), \n",
        "    # increase invalid_number_prediction_count and don't append this and corresponding\n",
        "    # ground-truth value to the arrays.\n",
        "    \n",
        "    for X_batch, Y_batch in generate_batches(test_set, batch_size=batch_size):\n",
        "        \n",
        "        X, X_len = batch_to_ids(X_batch, word2id, max_len=max_len)\n",
        "        Y, Y_len = batch_to_ids(Y_batch, word2id, max_len=max_len)\n",
        "        predictions = model.predict_for_batch(session, X, X_len)\n",
        "        \n",
        "        for Y_true, Y_pred in zip(Y, predictions):\n",
        "            \n",
        "            try:\n",
        "                end_token = '$'\n",
        "                Y_true, Y_pred = ''.join(ids_to_sentence(Y_true, id2word)), ''.join(ids_to_sentence(Y_pred, id2word))\n",
        "                Y_true, Y_pred = Y_true[:Y_true.find(end_token)], Y_pred[:Y_pred.find(end_token)]\n",
        "                model_predictions.append(int(Y_pred))\n",
        "                ground_truth.append(int(Y_true))\n",
        "                \n",
        "            except:\n",
        "                invalid_number_prediction_count = invalid_number_prediction_count + 1\n",
        "    \n",
        "    # Final results\n",
        "    all_model_predictions.append(model_predictions)\n",
        "    all_ground_truth.append(ground_truth)\n",
        "    invalid_number_prediction_counts.append(invalid_number_prediction_count)\n",
        "            \n",
        "print('\\n...training finished.')"
      ],
      "execution_count": 41,
      "outputs": [
        {
          "output_type": "stream",
          "text": [
            "Start training... \n",
            "\n",
            "Train: Epoch 1\n",
            "Epoch: [1/20], step: [1/625], Loss: 2.705762\n",
            "Epoch: [1/20], step: [201/625], Loss: 1.826759\n",
            "Epoch: [1/20], step: [401/625], Loss: 1.777515\n",
            "Epoch: [1/20], step: [601/625], Loss: 1.671082\n",
            "\n",
            "Test: Epoch 1 Loss: 1.5962147\n",
            "X: 2654-6564$\n",
            "Y: -3910$\n",
            "O: -3100$\n",
            "\n",
            "X: 3552-588$#\n",
            "Y: 2964$#\n",
            "O: 1116$#\n",
            "\n",
            "X: 2513+7820$\n",
            "Y: 10333$\n",
            "O: 10188$\n",
            "\n",
            "Train: Epoch 2\n",
            "Epoch: [2/20], step: [1/625], Loss: 1.656287\n",
            "Epoch: [2/20], step: [201/625], Loss: 1.635415\n",
            "Epoch: [2/20], step: [401/625], Loss: 1.563997\n",
            "Epoch: [2/20], step: [601/625], Loss: 1.548381\n",
            "\n",
            "Test: Epoch 2 Loss: 1.4862914\n",
            "X: 8559+7098$\n",
            "Y: 15657$\n",
            "O: 16180$\n",
            "\n",
            "X: 5727-4720$\n",
            "Y: 1007$#\n",
            "O: 1088$#\n",
            "\n",
            "X: 3167-3451$\n",
            "Y: -284$#\n",
            "O: -108$#\n",
            "\n",
            "Train: Epoch 3\n",
            "Epoch: [3/20], step: [1/625], Loss: 1.558989\n",
            "Epoch: [3/20], step: [201/625], Loss: 1.471212\n",
            "Epoch: [3/20], step: [401/625], Loss: 1.477180\n",
            "Epoch: [3/20], step: [601/625], Loss: 1.530802\n",
            "\n",
            "Test: Epoch 3 Loss: 1.3846678\n",
            "X: 7314-1372$\n",
            "Y: 5942$#\n",
            "O: 5999$#\n",
            "\n",
            "X: 6502-2083$\n",
            "Y: 4419$#\n",
            "O: 4076$#\n",
            "\n",
            "X: 1009+3866$\n",
            "Y: 4875$#\n",
            "O: 5000$#\n",
            "\n",
            "Train: Epoch 4\n",
            "Epoch: [4/20], step: [1/625], Loss: 1.504150\n",
            "Epoch: [4/20], step: [201/625], Loss: 1.474741\n",
            "Epoch: [4/20], step: [401/625], Loss: 1.470530\n",
            "Epoch: [4/20], step: [601/625], Loss: 1.450332\n",
            "\n",
            "Test: Epoch 4 Loss: 1.3632555\n",
            "X: 2978-2493$\n",
            "Y: 485$##\n",
            "O: 109$##\n",
            "\n",
            "X: 4123-7610$\n",
            "Y: -3487$\n",
            "O: -3097$\n",
            "\n",
            "X: 8883+1914$\n",
            "Y: 10797$\n",
            "O: 10827$\n",
            "\n",
            "Train: Epoch 5\n",
            "Epoch: [5/20], step: [1/625], Loss: 1.442725\n",
            "Epoch: [5/20], step: [201/625], Loss: 1.432023\n",
            "Epoch: [5/20], step: [401/625], Loss: 1.434006\n",
            "Epoch: [5/20], step: [601/625], Loss: 1.456494\n",
            "\n",
            "Test: Epoch 5 Loss: 1.3692591\n",
            "X: 3184-1387$\n",
            "Y: 1797$#\n",
            "O: 1658$#\n",
            "\n",
            "X: 3985+1872$\n",
            "Y: 5857$#\n",
            "O: 5788$#\n",
            "\n",
            "X: 524-1221$#\n",
            "Y: -697$#\n",
            "O: -1058$\n",
            "\n",
            "Train: Epoch 6\n",
            "Epoch: [6/20], step: [1/625], Loss: 1.425202\n",
            "Epoch: [6/20], step: [201/625], Loss: 1.426455\n",
            "Epoch: [6/20], step: [401/625], Loss: 1.386540\n",
            "Epoch: [6/20], step: [601/625], Loss: 1.420467\n",
            "\n",
            "Test: Epoch 6 Loss: 1.3438535\n",
            "X: 653+3150$#\n",
            "Y: 3803$#\n",
            "O: 3555$#\n",
            "\n",
            "X: 3754-9268$\n",
            "Y: -5514$\n",
            "O: -5374$\n",
            "\n",
            "X: 2773+3686$\n",
            "Y: 6459$#\n",
            "O: 6333$#\n",
            "\n",
            "Train: Epoch 7\n",
            "Epoch: [7/20], step: [1/625], Loss: 1.429566\n",
            "Epoch: [7/20], step: [201/625], Loss: 1.358017\n",
            "Epoch: [7/20], step: [401/625], Loss: 1.448295\n",
            "Epoch: [7/20], step: [601/625], Loss: 1.405608\n",
            "\n",
            "Test: Epoch 7 Loss: 1.3055625\n",
            "X: 8687-6559$\n",
            "Y: 2128$#\n",
            "O: 2099$#\n",
            "\n",
            "X: 4017-2208$\n",
            "Y: 1809$#\n",
            "O: 1899$#\n",
            "\n",
            "X: 1964-4469$\n",
            "Y: -2505$\n",
            "O: -2409$\n",
            "\n",
            "Train: Epoch 8\n",
            "Epoch: [8/20], step: [1/625], Loss: 1.406239\n",
            "Epoch: [8/20], step: [201/625], Loss: 1.392381\n",
            "Epoch: [8/20], step: [401/625], Loss: 1.379578\n",
            "Epoch: [8/20], step: [601/625], Loss: 1.386913\n",
            "\n",
            "Test: Epoch 8 Loss: 1.3004831\n",
            "X: 5464+6137$\n",
            "Y: 11601$\n",
            "O: 11588$\n",
            "\n",
            "X: 7771+2859$\n",
            "Y: 10630$\n",
            "O: 10888$\n",
            "\n",
            "X: 139-553$##\n",
            "Y: -414$#\n",
            "O: -422$#\n",
            "\n",
            "Train: Epoch 9\n",
            "Epoch: [9/20], step: [1/625], Loss: 1.379256\n",
            "Epoch: [9/20], step: [201/625], Loss: 1.396435\n",
            "Epoch: [9/20], step: [401/625], Loss: 1.394231\n",
            "Epoch: [9/20], step: [601/625], Loss: 1.385526\n",
            "\n",
            "Test: Epoch 9 Loss: 1.2918986\n",
            "X: 1478-1627$\n",
            "Y: -149$#\n",
            "O: -100$#\n",
            "\n",
            "X: 7424+3088$\n",
            "Y: 10512$\n",
            "O: 10606$\n",
            "\n",
            "X: 237-4367$#\n",
            "Y: -4130$\n",
            "O: -3900$\n",
            "\n",
            "Train: Epoch 10\n",
            "Epoch: [10/20], step: [1/625], Loss: 1.362615\n",
            "Epoch: [10/20], step: [201/625], Loss: 1.388274\n",
            "Epoch: [10/20], step: [401/625], Loss: 1.401397\n",
            "Epoch: [10/20], step: [601/625], Loss: 1.410826\n",
            "\n",
            "Test: Epoch 10 Loss: 1.2953616\n",
            "X: 8494-3214$\n",
            "Y: 5280$#\n",
            "O: 5377$#\n",
            "\n",
            "X: 862-8968$#\n",
            "Y: -8106$\n",
            "O: -8179$\n",
            "\n",
            "X: 250-7990$#\n",
            "Y: -7740$\n",
            "O: -7777$\n",
            "\n",
            "Train: Epoch 11\n",
            "Epoch: [11/20], step: [1/625], Loss: 1.367183\n",
            "Epoch: [11/20], step: [201/625], Loss: 1.367702\n",
            "Epoch: [11/20], step: [401/625], Loss: 1.392884\n",
            "Epoch: [11/20], step: [601/625], Loss: 1.325281\n",
            "\n",
            "Test: Epoch 11 Loss: 1.2776935\n",
            "X: 4376+6870$\n",
            "Y: 11246$\n",
            "O: 11225$\n",
            "\n",
            "X: 589+1598$#\n",
            "Y: 2187$#\n",
            "O: 2226$#\n",
            "\n",
            "X: 516-7789$#\n",
            "Y: -7273$\n",
            "O: -7235$\n",
            "\n",
            "Train: Epoch 12\n",
            "Epoch: [12/20], step: [1/625], Loss: 1.331832\n",
            "Epoch: [12/20], step: [201/625], Loss: 1.352860\n",
            "Epoch: [12/20], step: [401/625], Loss: 1.356533\n",
            "Epoch: [12/20], step: [601/625], Loss: 1.352180\n",
            "\n",
            "Test: Epoch 12 Loss: 1.270226\n",
            "X: 9534+2813$\n",
            "Y: 12347$\n",
            "O: 12444$\n",
            "\n",
            "X: 9186+3289$\n",
            "Y: 12475$\n",
            "O: 12844$\n",
            "\n",
            "X: 2756+8676$\n",
            "Y: 11432$\n",
            "O: 11240$\n",
            "\n",
            "Train: Epoch 13\n",
            "Epoch: [13/20], step: [1/625], Loss: 1.354066\n",
            "Epoch: [13/20], step: [201/625], Loss: 1.342797\n",
            "Epoch: [13/20], step: [401/625], Loss: 1.382946\n",
            "Epoch: [13/20], step: [601/625], Loss: 1.322851\n",
            "\n",
            "Test: Epoch 13 Loss: 1.2658508\n",
            "X: 9551+6628$\n",
            "Y: 16179$\n",
            "O: 16221$\n",
            "\n",
            "X: 7077-2306$\n",
            "Y: 4771$#\n",
            "O: 4929$#\n",
            "\n",
            "X: 3574+1828$\n",
            "Y: 5402$#\n",
            "O: 5310$#\n",
            "\n",
            "Train: Epoch 14\n",
            "Epoch: [14/20], step: [1/625], Loss: 1.369942\n",
            "Epoch: [14/20], step: [201/625], Loss: 1.330537\n",
            "Epoch: [14/20], step: [401/625], Loss: 1.370593\n",
            "Epoch: [14/20], step: [601/625], Loss: 1.352071\n",
            "\n",
            "Test: Epoch 14 Loss: 1.276109\n",
            "X: 8291-2892$\n",
            "Y: 5399$#\n",
            "O: 5277$#\n",
            "\n",
            "X: 7460-7078$\n",
            "Y: 382$##\n",
            "O: 117$##\n",
            "\n",
            "X: 7630+6626$\n",
            "Y: 14256$\n",
            "O: 14007$\n",
            "\n",
            "Train: Epoch 15\n",
            "Epoch: [15/20], step: [1/625], Loss: 1.383152\n",
            "Epoch: [15/20], step: [201/625], Loss: 1.346128\n",
            "Epoch: [15/20], step: [401/625], Loss: 1.302516\n",
            "Epoch: [15/20], step: [601/625], Loss: 1.351799\n",
            "\n",
            "Test: Epoch 15 Loss: 1.2421786\n",
            "X: 5703+1867$\n",
            "Y: 7570$#\n",
            "O: 7755$#\n",
            "\n",
            "X: 3405-5656$\n",
            "Y: -2251$\n",
            "O: -2008$\n",
            "\n",
            "X: 6509+8329$\n",
            "Y: 14838$\n",
            "O: 15011$\n",
            "\n",
            "Train: Epoch 16\n",
            "Epoch: [16/20], step: [1/625], Loss: 1.364116\n",
            "Epoch: [16/20], step: [201/625], Loss: 1.311929\n",
            "Epoch: [16/20], step: [401/625], Loss: 1.341961\n",
            "Epoch: [16/20], step: [601/625], Loss: 1.342311\n",
            "\n",
            "Test: Epoch 16 Loss: 1.2373786\n",
            "X: 4831+7396$\n",
            "Y: 12227$\n",
            "O: 12114$\n",
            "\n",
            "X: 4340+7207$\n",
            "Y: 11547$\n",
            "O: 11288$\n",
            "\n",
            "X: 2088+4701$\n",
            "Y: 6789$#\n",
            "O: 7012$#\n",
            "\n",
            "Train: Epoch 17\n",
            "Epoch: [17/20], step: [1/625], Loss: 1.326596\n",
            "Epoch: [17/20], step: [201/625], Loss: 1.343968\n",
            "Epoch: [17/20], step: [401/625], Loss: 1.349604\n",
            "Epoch: [17/20], step: [601/625], Loss: 1.376820\n",
            "\n",
            "Test: Epoch 17 Loss: 1.2489427\n",
            "X: 5471+4319$\n",
            "Y: 9790$#\n",
            "O: 9882$#\n",
            "\n",
            "X: 9377+6799$\n",
            "Y: 16176$\n",
            "O: 16152$\n",
            "\n",
            "X: 9510-216$#\n",
            "Y: 9294$#\n",
            "O: 9333$#\n",
            "\n",
            "Train: Epoch 18\n",
            "Epoch: [18/20], step: [1/625], Loss: 1.351396\n",
            "Epoch: [18/20], step: [201/625], Loss: 1.349153\n",
            "Epoch: [18/20], step: [401/625], Loss: 1.327954\n",
            "Epoch: [18/20], step: [601/625], Loss: 1.337466\n",
            "\n",
            "Test: Epoch 18 Loss: 1.2698321\n",
            "X: 3942+3802$\n",
            "Y: 7744$#\n",
            "O: 7970$#\n",
            "\n",
            "X: 8237-7663$\n",
            "Y: 574$##\n",
            "O: 104$##\n",
            "\n",
            "X: 8621-1732$\n",
            "Y: 6889$#\n",
            "O: 6620$#\n",
            "\n",
            "Train: Epoch 19\n",
            "Epoch: [19/20], step: [1/625], Loss: 1.326187\n",
            "Epoch: [19/20], step: [201/625], Loss: 1.349892\n",
            "Epoch: [19/20], step: [401/625], Loss: 1.327161\n",
            "Epoch: [19/20], step: [601/625], Loss: 1.320231\n",
            "\n",
            "Test: Epoch 19 Loss: 1.2275243\n",
            "X: 1855-4860$\n",
            "Y: -3005$\n",
            "O: -3077$\n",
            "\n",
            "X: 467-5580$#\n",
            "Y: -5113$\n",
            "O: -5610$\n",
            "\n",
            "X: 7584-9164$\n",
            "Y: -1580$\n",
            "O: -1950$\n",
            "\n",
            "Train: Epoch 20\n",
            "Epoch: [20/20], step: [1/625], Loss: 1.332609\n",
            "Epoch: [20/20], step: [201/625], Loss: 1.315296\n",
            "Epoch: [20/20], step: [401/625], Loss: 1.333052\n",
            "Epoch: [20/20], step: [601/625], Loss: 1.331364\n",
            "\n",
            "Test: Epoch 20 Loss: 1.2499062\n",
            "X: 7154-7912$\n",
            "Y: -758$#\n",
            "O: -1003$\n",
            "\n",
            "X: 742+8168$#\n",
            "Y: 8910$#\n",
            "O: 8769$#\n",
            "\n",
            "X: 7964+6282$\n",
            "Y: 14246$\n",
            "O: 14036$\n",
            "\n",
            "\n",
            "...training finished.\n"
          ],
          "name": "stdout"
        }
      ]
    },
    {
      "cell_type": "code",
      "metadata": {
        "id": "fdjUr173LpUd",
        "colab_type": "code",
        "colab": {}
      },
      "source": [
        "#Number of Epochs is 20 and Keep probability is 0.7\n",
        "from sklearn.metrics import mean_absolute_error"
      ],
      "execution_count": 0,
      "outputs": []
    },
    {
      "cell_type": "code",
      "metadata": {
        "id": "Ol3uMLQWLm3B",
        "colab_type": "code",
        "colab": {
          "base_uri": "https://localhost:8080/",
          "height": 357
        },
        "outputId": "d7986245-fcca-4702-c5fc-252b09f8aa89"
      },
      "source": [
        "\n",
        "for i, (gts, predictions, invalid_number_prediction_count) in enumerate(zip(all_ground_truth,\n",
        "                                                                            all_model_predictions,\n",
        "                                                                            invalid_number_prediction_counts), 1):\n",
        "    mae = mean_absolute_error(gts, predictions)\n",
        "    print(\"Epoch: %i, MAE: %f, Invalid numbers: %i\" % (i, mae, invalid_number_prediction_count))"
      ],
      "execution_count": 43,
      "outputs": [
        {
          "output_type": "stream",
          "text": [
            "Epoch: 1, MAE: 1140.300150, Invalid numbers: 0\n",
            "Epoch: 2, MAE: 491.827100, Invalid numbers: 0\n",
            "Epoch: 3, MAE: 338.826100, Invalid numbers: 0\n",
            "Epoch: 4, MAE: 274.013550, Invalid numbers: 0\n",
            "Epoch: 5, MAE: 270.604450, Invalid numbers: 0\n",
            "Epoch: 6, MAE: 220.413650, Invalid numbers: 0\n",
            "Epoch: 7, MAE: 212.035750, Invalid numbers: 0\n",
            "Epoch: 8, MAE: 182.017550, Invalid numbers: 0\n",
            "Epoch: 9, MAE: 176.339000, Invalid numbers: 0\n",
            "Epoch: 10, MAE: 168.941900, Invalid numbers: 0\n",
            "Epoch: 11, MAE: 162.965600, Invalid numbers: 0\n",
            "Epoch: 12, MAE: 156.563000, Invalid numbers: 0\n",
            "Epoch: 13, MAE: 161.817300, Invalid numbers: 0\n",
            "Epoch: 14, MAE: 153.902100, Invalid numbers: 0\n",
            "Epoch: 15, MAE: 138.465100, Invalid numbers: 0\n",
            "Epoch: 16, MAE: 146.804650, Invalid numbers: 0\n",
            "Epoch: 17, MAE: 148.412250, Invalid numbers: 0\n",
            "Epoch: 18, MAE: 141.421150, Invalid numbers: 0\n",
            "Epoch: 19, MAE: 125.738450, Invalid numbers: 0\n",
            "Epoch: 20, MAE: 139.743500, Invalid numbers: 0\n"
          ],
          "name": "stdout"
        }
      ]
    }
  ]
}